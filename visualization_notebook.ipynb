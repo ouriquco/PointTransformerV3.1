{
 "cells": [
  {
   "cell_type": "code",
   "execution_count": 40,
   "metadata": {},
   "outputs": [],
   "source": [
    "import torch\n",
    "from torch.utils.data import Dataset, DataLoader\n",
    "import numpy as np\n",
    "import open3d as o3d\n",
    "from pointcept.utils.visualization import save_point_cloud, save_bounding_boxes, save_lines\n",
    "# from pointcept.models.point_transformer_v3.point_transformer_v3m1_base import PointTransformerV3\n",
    "# from pointcept.engines.defaults import (\n",
    "#     default_argument_parser,\n",
    "#     default_config_parser,\n",
    "#     default_setup,\n",
    "# )\n",
    "# from pointcept.engines.train import TRAINERS\n",
    "# from pointcept.engines.test import TESTERS"
   ]
  },
  {
   "cell_type": "code",
   "execution_count": 33,
   "metadata": {},
   "outputs": [
    {
     "name": "stdout",
     "output_type": "stream",
     "text": [
      "(125964,)\n"
     ]
    }
   ],
   "source": [
    "data = np.load('/fs/atipa/data/cmpe258-sp24/fa24_team14/codys_workspace/PointTransformerV3.1/exp/waymo/semsegV3_waymo_20_epochs_2/result/segment-10203656353524179475_7625_000_7645_000_with_camera_labels_1522688017467153_pred.npy')\n",
    "print(data.shape)\n",
    "if data.ndim == 1 and data.size % 3 == 0:\n",
    "    data = data.reshape(-1, 3).astype(np.float64)\n",
    "else:\n",
    "    raise ValueError(\"Data cannot be reshaped into (N, 3). Check the input file.\")\n",
    "\n",
    "pcd = o3d.geometry.PointCloud()\n",
    "pcd.points = o3d.utility.Vector3dVector(data)   \n",
    "# o3d.visualization.draw_geometries([pcd])"
   ]
  },
  {
   "cell_type": "markdown",
   "metadata": {},
   "source": [
    "# Visualize Waymo Point Cloud"
   ]
  },
  {
   "cell_type": "code",
   "execution_count": 53,
   "metadata": {},
   "outputs": [],
   "source": [
    "coord = np.load('/fs/atipa/data/cmpe258-sp24/fa24_team14/codys_workspace/PointTransformerV3.1/data/waymo/training/segment-15832924468527961_1564_160_1584_160_with_camera_labels/1507678829280022/coord.npy')\n",
    "save_point_cloud(coord, file_path='/fs/atipa/data/cmpe258-sp24/fa24_team14/codys_workspace/PointTransformerV3.1/point_cloud/waymo_pc.ply')"
   ]
  },
  {
   "cell_type": "markdown",
   "metadata": {},
   "source": [
    "# Visualize Scannet Point Cloud"
   ]
  },
  {
   "cell_type": "code",
   "execution_count": 51,
   "metadata": {},
   "outputs": [
    {
     "name": "stdout",
     "output_type": "stream",
     "text": [
      "\u001b[1;33m[Open3D WARNING] Write Ply clamped color value to valid range\u001b[0;m\n"
     ]
    }
   ],
   "source": [
    "coord = np.load('/fs/atipa/data/cmpe258-sp24/fa24_team14/scannet_data/train/scene0101_03/coord.npy')\n",
    "color = np.load('/fs/atipa/data/cmpe258-sp24/fa24_team14/scannet_data/train/scene0101_03/color.npy')\n",
    "save_point_cloud(coord, file_path='/fs/atipa/data/cmpe258-sp24/fa24_team14/codys_workspace/PointTransformerV3.1/point_cloud/scannet_pc.ply', color=color)"
   ]
  },
  {
   "cell_type": "markdown",
   "metadata": {},
   "source": [
    "# Visualize Scannet++ Point Cloud"
   ]
  },
  {
   "cell_type": "code",
   "execution_count": 52,
   "metadata": {},
   "outputs": [
    {
     "name": "stdout",
     "output_type": "stream",
     "text": [
      "\u001b[1;33m[Open3D WARNING] Write Ply clamped color value to valid range\u001b[0;m\n"
     ]
    }
   ],
   "source": [
    "coord = np.load('/fs/atipa/data/cmpe258-sp24/fa24_team14/codys_workspace/PointTransformerV3.1/data/scannetpp/train/0a5c013435/coord.npy')\n",
    "color = np.load('/fs/atipa/data/cmpe258-sp24/fa24_team14/codys_workspace/PointTransformerV3.1/data/scannetpp/train/0a5c013435/color.npy')\n",
    "save_point_cloud(coord, file_path='/fs/atipa/data/cmpe258-sp24/fa24_team14/codys_workspace/PointTransformerV3.1/point_cloud/scannetpp_pc.ply', color=color)"
   ]
  },
  {
   "cell_type": "markdown",
   "metadata": {},
   "source": [
    "# Visualize Structured3D Point Cloud"
   ]
  },
  {
   "cell_type": "code",
   "execution_count": 54,
   "metadata": {},
   "outputs": [
    {
     "name": "stdout",
     "output_type": "stream",
     "text": [
      "\u001b[1;33m[Open3D WARNING] Write Ply clamped color value to valid range\u001b[0;m\n"
     ]
    }
   ],
   "source": [
    "coord = np.load('/fs/atipa/data/cmpe258-sp24/fa24_team14/structure3d/train/scene_01001/room_141/coord.npy')\n",
    "color = np.load('/fs/atipa/data/cmpe258-sp24/fa24_team14/structure3d/train/scene_01001/room_141/color.npy')\n",
    "save_point_cloud(coord, file_path='/fs/atipa/data/cmpe258-sp24/fa24_team14/codys_workspace/PointTransformerV3.1/point_cloud/structure3d_pc.ply', color=color)"
   ]
  }
 ],
 "metadata": {
  "kernelspec": {
   "display_name": "pointcept_V3",
   "language": "python",
   "name": "python3"
  },
  "language_info": {
   "codemirror_mode": {
    "name": "ipython",
    "version": 3
   },
   "file_extension": ".py",
   "mimetype": "text/x-python",
   "name": "python",
   "nbconvert_exporter": "python",
   "pygments_lexer": "ipython3",
   "version": "3.8.20"
  }
 },
 "nbformat": 4,
 "nbformat_minor": 2
}
